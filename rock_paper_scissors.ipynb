{
  "cells": [
    {
      "cell_type": "markdown",
      "metadata": {
        "id": "3Qqn7FzDxc_u"
      },
      "source": [
        "# <center> Турнир между виртуальными агентами в игре «камень-ножницы-бумага»"
      ]
    },
    {
      "cell_type": "markdown",
      "metadata": {},
      "source": [
        "1. Описать поведение бота, который будет играть с такими же ботами в игру «камень-ножницы-бумага». Поведение бота описывается с помощью функции, которая принимает на вход информацию о прошлых играх.\n",
        "2. После описания поведения агентов запустить турнир между ними и проверить, какая стратегия показывает себя лучше всех."
      ]
    },
    {
      "cell_type": "markdown",
      "metadata": {},
      "source": [
        "# <center> Подготовка"
      ]
    },
    {
      "cell_type": "markdown",
      "metadata": {},
      "source": [
        "## Имортируем все необходимые инструмены"
      ]
    },
    {
      "cell_type": "code",
      "execution_count": 232,
      "metadata": {},
      "outputs": [],
      "source": [
        "import random\n",
        "from kaggle_environments import evaluate, make"
      ]
    },
    {
      "cell_type": "markdown",
      "metadata": {},
      "source": [
        "# <center> Создадим агентов с различными стратегиями"
      ]
    },
    {
      "cell_type": "markdown",
      "metadata": {},
      "source": [
        "## Создадим 8 агентов, каждый с уникальной стратегией выбора хода."
      ]
    },
    {
      "cell_type": "markdown",
      "metadata": {},
      "source": [
        "В нашей игре будем придерживаться следующих правил:\n",
        "<br/> Камень = 0\n",
        "<br/> Ножницы = 2\n",
        "<br/> Бумага = 1\n",
        "<br/> Камень бьёт ножницы, ножницы бьют бумагу, а бумага бьёт камень."
      ]
    },
    {
      "cell_type": "markdown",
      "metadata": {},
      "source": [
        "### Агент: Каменный!"
      ]
    },
    {
      "cell_type": "markdown",
      "metadata": {},
      "source": [
        "Этот агент всегда выбирает камень (0)"
      ]
    },
    {
      "cell_type": "code",
      "execution_count": 233,
      "metadata": {},
      "outputs": [],
      "source": [
        "def rock_agent(observation, configuration):\n",
        "    return 0"
      ]
    },
    {
      "cell_type": "markdown",
      "metadata": {},
      "source": [
        "### Агент: Ножницы навсегда!"
      ]
    },
    {
      "cell_type": "markdown",
      "metadata": {},
      "source": [
        "Этот агент всегда выбирает ножницы (1)"
      ]
    },
    {
      "cell_type": "code",
      "execution_count": 234,
      "metadata": {},
      "outputs": [],
      "source": [
        "def scissors_agent(observation, configuration):\n",
        "    return 2"
      ]
    },
    {
      "cell_type": "markdown",
      "metadata": {},
      "source": [
        "### Агент: Бумажный!"
      ]
    },
    {
      "cell_type": "markdown",
      "metadata": {},
      "source": [
        "Этот агент всегда выбирает бумагу (2)"
      ]
    },
    {
      "cell_type": "code",
      "execution_count": 235,
      "metadata": {},
      "outputs": [],
      "source": [
        "def paper_agent(observation, configuration):\n",
        "    return 1"
      ]
    },
    {
      "cell_type": "markdown",
      "metadata": {},
      "source": [
        "### Агент: Случайный"
      ]
    },
    {
      "cell_type": "markdown",
      "metadata": {},
      "source": [
        "Этот агент выбирает ход случайным образом из возможных вариантов."
      ]
    },
    {
      "cell_type": "code",
      "execution_count": 236,
      "metadata": {},
      "outputs": [],
      "source": [
        "def random_agent(observation, configuration):\n",
        "    return random.choice([0, 1, 2])"
      ]
    },
    {
      "cell_type": "markdown",
      "metadata": {},
      "source": [
        "### Агент: Упорядоченный"
      ]
    },
    {
      "cell_type": "markdown",
      "metadata": {},
      "source": [
        "Этот агент чередует свои ходы по порядку: камень → бумага → ножницы → камень и т.д."
      ]
    },
    {
      "cell_type": "code",
      "execution_count": 237,
      "metadata": {},
      "outputs": [],
      "source": [
        "def alternating_agent_factory():\n",
        "    state = {'last_move': -1}\n",
        "    \n",
        "    def alternating_agent(observation, configuration):\n",
        "        state['last_move'] = (state['last_move'] + 1) % 3\n",
        "        return state['last_move']\n",
        "    \n",
        "    return alternating_agent\n",
        "\n",
        "alternating_agent = alternating_agent_factory()"
      ]
    },
    {
      "cell_type": "markdown",
      "metadata": {},
      "source": [
        "### Агент: Гюнтер о'Дим (по прозвищу зеркало)"
      ]
    },
    {
      "cell_type": "markdown",
      "metadata": {},
      "source": [
        "Этот агент повторяет последний ход противника. Если это первая игра, выбирает случайный ход."
      ]
    },
    {
      "cell_type": "code",
      "execution_count": 238,
      "metadata": {},
      "outputs": [],
      "source": [
        "def mirror_agent(observation, configuration):\n",
        "    if observation.step == 0:\n",
        "        return random.choice([0, 1, 2])\n",
        "    return observation.lastOpponentAction"
      ]
    },
    {
      "cell_type": "markdown",
      "metadata": {},
      "source": [
        "### Агент: Анти-Зеркало"
      ]
    },
    {
      "cell_type": "markdown",
      "metadata": {},
      "source": [
        "Этот агент выбирает ход, который побеждает последний ход противника. Если это первая игра, выбирает случайный ход."
      ]
    },
    {
      "cell_type": "code",
      "execution_count": 239,
      "metadata": {},
      "outputs": [],
      "source": [
        "def anti_mirror_agent(observation, configuration):\n",
        "    if observation.step == 0:\n",
        "        return random.choice([0, 1, 2])\n",
        "    last_opponent_move = observation.lastOpponentAction\n",
        "    winning_move = (last_opponent_move + 1) % 3\n",
        "    return winning_move"
      ]
    },
    {
      "cell_type": "markdown",
      "metadata": {},
      "source": [
        "### Агент: Камень с приветом!"
      ]
    },
    {
      "cell_type": "markdown",
      "metadata": {},
      "source": [
        "Этот агент выбирает ход случайным образом, но вероятность камня будет выше:\n",
        "\n",
        "<br/> Камень (0) — 60%\n",
        "<br/> Ножницы (2) — 20%\n",
        "<br/> Бумага (1) — 20%"
      ]
    },
    {
      "cell_type": "code",
      "execution_count": 240,
      "metadata": {},
      "outputs": [],
      "source": [
        "def rock_random_agent(observation, configuration):\n",
        "    return random.choices(\n",
        "        [0, 1, 2],\n",
        "        weights=[0.6, 0.2, 0.2],\n",
        "        k=1\n",
        "    )[0]"
      ]
    },
    {
      "cell_type": "markdown",
      "metadata": {},
      "source": [
        "### Агент: Ножницы с настроением!"
      ]
    },
    {
      "cell_type": "markdown",
      "metadata": {},
      "source": [
        "Этот агент выбирает ход случайным образом, но вероятность ножниц будет выше:\n",
        "\n",
        "<br/> Камень (0) — 20%\n",
        "<br/> Ножницы (2) — 60%\n",
        "<br/> Бумага (1) — 20%"
      ]
    },
    {
      "cell_type": "code",
      "execution_count": 241,
      "metadata": {},
      "outputs": [],
      "source": [
        "def scissors_random_agent(observation, configuration):\n",
        "    return random.choices(\n",
        "        [0, 1, 2],\n",
        "        weights=[0.2, 0.6, 0.2],\n",
        "        k=1\n",
        "    )[0]"
      ]
    },
    {
      "cell_type": "markdown",
      "metadata": {},
      "source": [
        "### Агент: Случайных ход, но предпочитает бумагу"
      ]
    },
    {
      "cell_type": "markdown",
      "metadata": {},
      "source": [
        "Этот агент выбирает ход случайным образом, но вероятность бумаги будет выше:\n",
        "\n",
        "<br/> Камень (0) — 20%\n",
        "<br/> Ножницы (2) — 20%\n",
        "<br/> Бумага (1) — 60%"
      ]
    },
    {
      "cell_type": "code",
      "execution_count": 242,
      "metadata": {},
      "outputs": [],
      "source": [
        "def paper_random_agent(observation, configuration):\n",
        "    return random.choices(\n",
        "        [0, 1, 2],\n",
        "        weights=[0.2, 0.2, 0.6],\n",
        "        k=1\n",
        "    )[0]"
      ]
    },
    {
      "cell_type": "markdown",
      "metadata": {},
      "source": [
        "### Агент: Каменные ножницы"
      ]
    },
    {
      "cell_type": "markdown",
      "metadata": {},
      "source": [
        "Этот агент будет чередовать ножницы и камень"
      ]
    },
    {
      "cell_type": "code",
      "execution_count": 243,
      "metadata": {},
      "outputs": [],
      "source": [
        "def stone_scissors(observation, configuration):\n",
        "    if observation.step % 2 == 0:\n",
        "        return 0\n",
        "    else:\n",
        "        return 2"
      ]
    },
    {
      "cell_type": "markdown",
      "metadata": {},
      "source": [
        "### Агент: Бумажные ножницы"
      ]
    },
    {
      "cell_type": "markdown",
      "metadata": {},
      "source": [
        "Этот агент будет чередовать ножницы и бумагу"
      ]
    },
    {
      "cell_type": "code",
      "execution_count": 244,
      "metadata": {},
      "outputs": [],
      "source": [
        "def paper_scissors(observation, configuration):\n",
        "    if observation.step % 2 == 0:\n",
        "        return 1\n",
        "    else:\n",
        "        return 2"
      ]
    },
    {
      "cell_type": "markdown",
      "metadata": {},
      "source": [
        "### Агент: Бумажный камень"
      ]
    },
    {
      "cell_type": "markdown",
      "metadata": {},
      "source": [
        "Этот агент будет чередовать камень и бумагу"
      ]
    },
    {
      "cell_type": "code",
      "execution_count": 245,
      "metadata": {},
      "outputs": [],
      "source": [
        "def paper_stone(observation, configuration):\n",
        "    if observation.step % 2 == 0:\n",
        "        return 0\n",
        "    else:\n",
        "        return 1"
      ]
    },
    {
      "cell_type": "markdown",
      "metadata": {},
      "source": [
        "# <center> Подготовка турнира"
      ]
    },
    {
      "cell_type": "markdown",
      "metadata": {},
      "source": [
        "### Вначале создадим среду для проведения турнира"
      ]
    },
    {
      "cell_type": "code",
      "execution_count": 246,
      "metadata": {},
      "outputs": [],
      "source": [
        "env = make(\"rps\", configuration={\"episodeSteps\": 100}, debug=True)"
      ]
    },
    {
      "cell_type": "markdown",
      "metadata": {},
      "source": [
        "### Теперь подготовим список участников"
      ]
    },
    {
      "cell_type": "code",
      "execution_count": 247,
      "metadata": {},
      "outputs": [],
      "source": [
        "agents = {\n",
        "    \"Каменный!\": rock_agent,\n",
        "    \"Ножницы навсегда!\": scissors_agent,\n",
        "    \"Бумажный!\": paper_agent,\n",
        "    \"Случайный\": random_agent,\n",
        "    \"Упорядоченный\": alternating_agent,\n",
        "    \"Гюнтер о'Дим\": mirror_agent,\n",
        "    \"Анти-Зеркало\": anti_mirror_agent,\n",
        "    \"Камень с приветом!\": rock_random_agent,\n",
        "    \"Ножницы с настроением!\": scissors_random_agent,\n",
        "    \"Бумага на выбор!\": paper_random_agent,\n",
        "    \"Каменные ножницы\": stone_scissors,\n",
        "    \"Бумажные ножницы\": paper_scissors,\n",
        "    \"Бумажный камень\": paper_stone\n",
        "}"
      ]
    },
    {
      "cell_type": "markdown",
      "metadata": {},
      "source": [
        "### Проведение турнира между всеми агентами"
      ]
    },
    {
      "cell_type": "code",
      "execution_count": 248,
      "metadata": {},
      "outputs": [],
      "source": [
        "def run_tournament(agent1, agent2, num_episodes):\n",
        "    result = evaluate(\"rps\", [agent1, agent2], num_episodes=num_episodes)\n",
        "    return result"
      ]
    },
    {
      "cell_type": "markdown",
      "metadata": {},
      "source": [
        "### Установим колличество раундов между каждой из пар на 10"
      ]
    },
    {
      "cell_type": "code",
      "execution_count": 249,
      "metadata": {},
      "outputs": [],
      "source": [
        "num_episodes = 10"
      ]
    },
    {
      "cell_type": "markdown",
      "metadata": {},
      "source": [
        "### Сделаем словарь где будут хранится результаты игры"
      ]
    },
    {
      "cell_type": "code",
      "execution_count": 250,
      "metadata": {},
      "outputs": [],
      "source": [
        "results = {name: {\"wins\": 0, \"losses\": 0} for name in agents.keys()}"
      ]
    },
    {
      "cell_type": "markdown",
      "metadata": {},
      "source": [
        "# <center> Проведение турнира!"
      ]
    },
    {
      "cell_type": "markdown",
      "metadata": {},
      "source": [
        "### Запуск турнира"
      ]
    },
    {
      "cell_type": "code",
      "execution_count": 251,
      "metadata": {},
      "outputs": [],
      "source": [
        "for i, agent1_name in enumerate(agents.keys()):\n",
        "    for j, agent2_name in enumerate(list(agents.keys())[i + 1:], start=i + 1):\n",
        "        # Получаем результаты\n",
        "        result = run_tournament(agents[agent1_name], agents[agent2_name], num_episodes)\n",
        "\n",
        "        # Подсчет побед\n",
        "        wins1 = sum(1 for game_result in result if game_result[0] > game_result[1])\n",
        "        wins2 = sum(1 for game_result in result if game_result[1] > game_result[0])\n",
        "\n",
        "        # Обновляем результаты\n",
        "        results[agent1_name][\"wins\"] += wins1\n",
        "        results[agent2_name][\"wins\"] += wins2\n",
        "        results[agent1_name][\"losses\"] += wins2\n",
        "        results[agent2_name][\"losses\"] += wins1"
      ]
    },
    {
      "cell_type": "markdown",
      "metadata": {},
      "source": [
        "# <center> Результаты"
      ]
    },
    {
      "cell_type": "markdown",
      "metadata": {},
      "source": [
        "### Выведем результаты и узнаем кто победил"
      ]
    },
    {
      "cell_type": "code",
      "execution_count": 252,
      "metadata": {},
      "outputs": [
        {
          "name": "stdout",
          "output_type": "stream",
          "text": [
            "\n",
            "Результаты турнира:\n",
            "Агент | Победы | Поражения | % Побед\n",
            "----------------------------------------\n",
            "Каменный!            | 34     | 42        | 44.74%\n",
            "Ножницы навсегда!    | 36     | 45        | 44.44%\n",
            "Бумажный!            | 33     | 47        | 41.25%\n",
            "Случайный            | 20     | 34        | 37.04%\n",
            "Упорядоченный        | 23     | 5         | 82.14%\n",
            "Гюнтер о'Дим         | 12     | 24        | 33.33%\n",
            "Анти-Зеркало         | 67     | 35        | 65.69%\n",
            "Камень с приветом!   | 38     | 51        | 42.70%\n",
            "Ножницы с настроением! | 39     | 56        | 41.05%\n",
            "Бумага на выбор!     | 41     | 51        | 44.57%\n",
            "Каменные ножницы     | 48     | 33        | 59.26%\n",
            "Бумажные ножницы     | 56     | 22        | 71.79%\n",
            "Бумажный камень      | 40     | 42        | 48.78%\n"
          ]
        }
      ],
      "source": [
        "print(\"\\nРезультаты турнира:\")\n",
        "print(\"Агент | Победы | Поражения | % Побед\")\n",
        "print(\"-\" * 40)\n",
        "for agent_name, result in results.items():\n",
        "    total_wins = result[\"wins\"]\n",
        "    total_losses = result[\"losses\"]\n",
        "    total_matches = total_wins + total_losses\n",
        "    win_percentage = (total_wins / total_matches * 100) if total_matches > 0 else 0\n",
        "    print(f\"{agent_name:<20} | {total_wins:<6} | {total_losses:<9} | {win_percentage:.2f}%\")"
      ]
    },
    {
      "cell_type": "markdown",
      "metadata": {},
      "source": [
        "# <center> Выводы"
      ]
    },
    {
      "cell_type": "markdown",
      "metadata": {},
      "source": [
        "Мы поэтапно разработали систему для игры \"Камень-Ножницы-Бумага\", включающую разнообразные стратегии агентов. Проведя турнир между этими агентами, мы определили наиболее эффективную стратегию. На основании полученных результатов выяснили, что стратегия \"Упорядоченный\" показала лучшие результаты. Однако, учитывая, что количество игр между претендентами составило всего 10, можно сделать вывод о том, что данный результат может быть недостаточно надежным. Для более точного анализа и оценки эффективности стратегий целесообразно провести большее количество игр между агентами."
      ]
    }
  ],
  "metadata": {
    "colab": {
      "provenance": [],
      "toc_visible": true
    },
    "kernelspec": {
      "display_name": "Python 3",
      "name": "python3"
    },
    "language_info": {
      "codemirror_mode": {
        "name": "ipython",
        "version": 3
      },
      "file_extension": ".py",
      "mimetype": "text/x-python",
      "name": "python",
      "nbconvert_exporter": "python",
      "pygments_lexer": "ipython3",
      "version": "3.11.9"
    }
  },
  "nbformat": 4,
  "nbformat_minor": 0
}
